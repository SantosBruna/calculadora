{
  "nbformat": 4,
  "nbformat_minor": 0,
  "metadata": {
    "colab": {
      "provenance": [],
      "authorship_tag": "ABX9TyO3kC80V8LW1e1fjpwKVcnX",
      "include_colab_link": true
    },
    "kernelspec": {
      "name": "python3",
      "display_name": "Python 3"
    },
    "language_info": {
      "name": "python"
    }
  },
  "cells": [
    {
      "cell_type": "markdown",
      "metadata": {
        "id": "view-in-github",
        "colab_type": "text"
      },
      "source": [
        "<a href=\"https://colab.research.google.com/github/SantosBruna/calculadora/blob/main/calculadora.ipynb\" target=\"_parent\"><img src=\"https://colab.research.google.com/assets/colab-badge.svg\" alt=\"Open In Colab\"/></a>"
      ]
    },
    {
      "cell_type": "code",
      "execution_count": 17,
      "metadata": {
        "colab": {
          "base_uri": "https://localhost:8080/"
        },
        "id": "CvVMy0IXUgiF",
        "outputId": "2514c081-8790-4acb-9345-df3d1ba6cd7a"
      },
      "outputs": [
        {
          "name": "stdout",
          "output_type": "stream",
          "text": [
            "-=-=-=-=-=-=-=-=-=-=-=-=-=-=-=-=-=-=-=-=\n",
            "              CALCULADORA               \n",
            "-=-=-=-=-=-=-=-=-=-=-=-=-=-=-=-=-=-=-=-=\n",
            "Qual o seu nome? Carlos\n",
            "Prazer em te conhecer Carlos!\n",
            "\n",
            "\n",
            "-=-=-=-=-=-=-=-=-=-=-=-=-=-=-=-=-=-=-=-=\n",
            "               OPERAÇÕES                \n",
            "-=-=-=-=-=-=-=-=-=-=-=-=-=-=-=-=-=-=-=-=\n",
            "[1] Soma\n",
            "[2] Subtração\n",
            "[3] Multiplicação\n",
            "[4] Divisão\n",
            "-=-=-=-=-=-=-=-=-=-=-=-=-=-=-=-=-=-=-=-=\n",
            "\n",
            "\n",
            "Escolha a operação desejada: 0\n",
            "Opção errada. Por favor escolha dentre as opções informadas acima: 6\n",
            "Opção errada. Por favor escolha dentre as opções informadas acima: 3\n",
            "Digite o primeiro número: 800\n",
            "Digite o segundo número: 2\n",
            "A multiplicacao ente 800.00 e 2.00 é 1600.00\n",
            "Deseja continuar? [S/N]: l\n",
            "Opção errada, por favor escolha entre S para sim ou N para não:n\n"
          ]
        }
      ],
      "source": [
        "resp = ''\n",
        "operacao = 0\n",
        "\n",
        "print('-='*20)\n",
        "print(f'{\"CALCULADORA\":^40}')\n",
        "print('-='*20)\n",
        "\n",
        "usuario = str(input('Qual o seu nome? ')).strip()\n",
        "print(f'Prazer em te conhecer {usuario}!')\n",
        "\n",
        "print('\\n')\n",
        "print('-='*20)\n",
        "print(f'{\"OPERAÇÕES\":^40}')\n",
        "print('-='*20)\n",
        "print('[1] Soma\\n[2] Subtração\\n[3] Multiplicação\\n[4] Divisão')\n",
        "print('-='*20)\n",
        "print('\\n')\n",
        "\n",
        "while True:\n",
        "  operacao = int(input('Escolha a operação desejada: '))\n",
        "  while operacao not in [1,2,3,4]:\n",
        "    operacao = int(input('Opção errada. Por favor escolha dentre as opções informadas acima: '))\n",
        "  num1 = float(input('Digite o primeiro número: '))\n",
        "  num2 = float(input('Digite o segundo número: '))\n",
        "\n",
        "  if operacao == 1:\n",
        "    soma = num1 + num2\n",
        "    print(f'A soma entre {num1:.2f} e {num2:.2f} é {soma:.2f}')\n",
        "  elif operacao == 2:\n",
        "    subtracao = num1 - num2\n",
        "    print(f'A subtração entre {num1:.2f} e {num2:.2f} é {subtracao:.2f}')\n",
        "  elif operacao == 3:\n",
        "    multiplicacao = num1 * num2\n",
        "    print(f'A multiplicacao ente {num1:.2f} e {num2:.2f} é {multiplicacao:.2f}')\n",
        "  elif (operacao == 4):\n",
        "    if num2 == 0: #dica do professor, verificar se o num2 é igual a zero, se sim, sair da divisão.\n",
        "      print('Não é possível dividir um número por zero!')\n",
        "      continue\n",
        "    divisao = num1 / num2\n",
        "    print(f'A divisão ente {num1:.2f} e {num2:.2f} é {divisao:.2f}')\n",
        "\n",
        "  resp = str(input('Deseja continuar? [S/N]: ')).upper().strip()\n",
        "  while resp not in 'SN':\n",
        "    resp = str(input('Opção errada, por favor escolha entre S para sim ou N para não:')).upper().strip()\n",
        "  if resp == 'N':\n",
        "    break;\n"
      ]
    }
  ]
}